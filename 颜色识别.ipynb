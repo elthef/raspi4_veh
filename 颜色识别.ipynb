import cv2
import numpy as np
from base_ctrl import BaseController
import time
import threading
import ipywidgets as widgets
from IPython.display import display, Image

# 创建一个 "停止" 按钮，允许用户通过点击它来停止视频流
stopButton = widgets.ToggleButton(
    value=False,
    description='Stop',
    disabled=False,
    button_style='danger',
    tooltip='点击停止视频',
    icon='square'
)

# 用于检测树莓派的函数
def is_raspberry_pi5():
    with open('/proc/cpuinfo', 'r') as file:
        for line in file:
            if 'Model' in line:
                if 'Raspberry Pi 5' in line:
                    return True
                else:
                    return False

# 根据树莓派的型号来确定 GPIO 串口设备名称
if is_raspberry_pi5():
    base = BaseController('/dev/ttyAMA0', 115200)
else:
    base = BaseController('/dev/serial0', 115200)

# 定义颜色范围（HSV）
blue_lower = np.array([100, 150, 50])  # 蓝色范围的下限
blue_upper = np.array([140, 255, 255])  # 蓝色范围的上限

# 调整后的红色范围（注意红色是跨越两个区间的）
red_lower1 = np.array([0, 120, 100])  # 红色范围的下限1（低色调）
red_upper1 = np.array([10, 255, 255])  # 红色范围的上限1（低色调）
red_lower2 = np.array([170, 120, 100])  # 红色范围的下限2（高色调）
red_upper2 = np.array([180, 255, 255])  # 红色范围的上限2（高色调）

green_lower = np.array([40, 50, 40])  # 绿色范围的下限
green_upper = np.array([80, 255, 220])  # 绿色范围的上限

min_radius = 12  # 检测物体的最小半径

# 判断物体是否为球形
def is_circular(c, min_ratio=0.8):
    (x, y), radius = cv2.minEnclosingCircle(c)
    area = cv2.contourArea(c)
    circle_area = np.pi * radius ** 2
    ratio = area / circle_area
    return ratio > min_ratio

# 控制LED闪烁的函数
def blink_led():
    for _ in range(3):
        IO4_PWM = 255  # 打开 LED 灯（设置最大亮度）
        IO5_PWM = 255
        base.lights_ctrl(IO4_PWM, IO5_PWM)
        time.sleep(0.5)  # 等待 0.5 秒
        IO4_PWM = 0  # 关闭 LED 灯
        IO5_PWM = 0
        base.lights_ctrl(IO4_PWM, IO5_PWM)
        time.sleep(0.5)  # 等待 0.5 秒

# 控制前进
def move_forward():
    print("Moving forward...")
    base.send_command({"T": 1, "L": 0.2, "R": 0.2})  # 左右轮以0.2m/s的速度前进

# 控制后退
def move_backward():
    print("Moving backward...")
    base.send_command({"T": 1, "L": -0.2, "R": -0.2})  # 左右轮以-0.2m/s的速度后退

# 停止运动
def stop_movement():
    print("Stopping movement...")
    base.send_command({"T": 1, "L": 0, "R": 0})  # 停止运动

# 判断红色物体并执行相应动作（已修改为直接后退）
def detect_red_ball(c, frame):
    ((x, y), radius) = cv2.minEnclosingCircle(c)
    if radius > min_radius:  # 如果半径大于最小阈值
        print(f"Red Ball Detected at position x: {x}, radius: {radius}")
        
        # 无论红色球的位置如何，直接后退
        print("Red detected, moving backward")
        move_backward()  # 红色球检测到，直接后退

        # 画出检测到的红色球的边界框
        cv2.circle(frame, (int(x), int(y)), int(radius), (0, 0, 255), 2)
        cv2.putText(frame, "Red", (int(x - radius), int(y - radius)), cv2.FONT_HERSHEY_SIMPLEX, 1, (0, 0, 255), 2)

# 定义显示函数，用于处理视频帧并识别颜色
def process_frame():
    display_handle = display(None, display_id=True)  # 创建一个显示句柄来更新显示的图像

    camera = cv2.VideoCapture(0)
    camera.set(cv2.CAP_PROP_FRAME_WIDTH, 300)  # 降低分辨率，减少计算量
    camera.set(cv2.CAP_PROP_FRAME_HEIGHT, 220)

    while not stopButton.value:  # 按钮为True时停止
        try:
            ret, frame = camera.read()
            if not ret:
                print("无法捕获视频帧")
                break  # 如果无法捕获到帧，则退出

            hsv = cv2.cvtColor(frame, cv2.COLOR_BGR2HSV)  # 转换为HSV颜色空间

            # 高斯模糊，去噪
            blurred = cv2.GaussianBlur(hsv, (5, 5), 0)

            # 创建不同颜色的掩模
            mask_blue = cv2.inRange(blurred, blue_lower, blue_upper)
            mask_red1 = cv2.inRange(blurred, red_lower1, red_upper1)
            mask_red2 = cv2.inRange(blurred, red_lower2, red_upper2)
            mask_red = cv2.bitwise_or(mask_red1, mask_red2)
            mask_green = cv2.inRange(blurred, green_lower, green_upper)

            # 膨胀和腐蚀掩模（减少次数以减少计算）
            mask_red = cv2.erode(mask_red, None, iterations=2)
            mask_red = cv2.dilate(mask_red, None, iterations=2)
            mask_blue = cv2.erode(mask_blue, None, iterations=1)
            mask_blue = cv2.dilate(mask_blue, None, iterations=1)
            mask_green = cv2.erode(mask_green, None, iterations=1)
            mask_green = cv2.dilate(mask_green, None, iterations=1)

            # 识别不同颜色的物体
            cnts_green = cv2.findContours(mask_green.copy(), cv2.RETR_EXTERNAL, cv2.CHAIN_APPROX_SIMPLE)
            cnts_blue = cv2.findContours(mask_blue.copy(), cv2.RETR_EXTERNAL, cv2.CHAIN_APPROX_SIMPLE)
            cnts_red = cv2.findContours(mask_red.copy(), cv2.RETR_EXTERNAL, cv2.CHAIN_APPROX_SIMPLE)

            cnts_green = cnts_green[0] if len(cnts_green) == 2 else cnts_green[1]
            cnts_blue = cnts_blue[0] if len(cnts_blue) == 2 else cnts_blue[1]
            cnts_red = cnts_red[0] if len(cnts_red) == 2 else cnts_red[1]

            # 识别绿色物体
            if len(cnts_green) > 0:
                c = max(cnts_green, key=cv2.contourArea)
                if is_circular(c):  # 判断是否为球形
                    ((x, y), radius) = cv2.minEnclosingCircle(c)
                    if radius > min_radius:
                        print(f"Green Ball Detected at position x: {x}, radius: {radius}")
                        # 执行LED闪烁
                        blink_led()

                    # 画出检测到的绿色球的边界框
                    cv2.circle(frame, (int(x), int(y)), int(radius), (0, 255, 0), 2)
                    cv2.putText(frame, "Green", (int(x - radius), int(y - radius)), cv2.FONT_HERSHEY_SIMPLEX, 1, (0, 255, 0), 2)

            # 识别蓝色物体
            blue_ball_detected = False  # Reset flag for blue ball
            if len(cnts_blue) > 0:
                c = max(cnts_blue, key=cv2.contourArea)
                if is_circular(c):
                    ((x, y), radius) = cv2.minEnclosingCircle(c)
                    if radius > min_radius:
                        print(f"Blue Ball Detected at position x: {x}, radius: {radius}")
                        blue_ball_detected = True
                        # 判断蓝色物体的位置，决定前进
                        print("Blue detected, moving forward")
                        move_forward()

                    cv2.circle(frame, (int(x), int(y)), int(radius), (255, 0, 0), 2)
                    cv2.putText(frame, "Blue", (int(x - radius), int(y - radius)), cv2.FONT_HERSHEY_SIMPLEX, 1, (255, 0, 0), 2)

            # 如果没有检测到蓝色物体，停止运动
            if not blue_ball_detected:
                stop_movement()

            # 处理红色物体
            for c in cnts_red:
                detect_red_ball(c, frame)

            # 更新显示的图像
            _, img_encoded = cv2.imencode('.jpeg', frame)
            img_bytes = img_encoded.tobytes()
            display_handle.update(Image(data=img_bytes))

        except Exception as e:
            print("Error:", e)

    camera.release()  # 释放相机资源
    display_handle.update(None)  # 清除显示

# 启动视频流
display(stopButton)
thread = threading.Thread(target=process_frame)
thread.start()
